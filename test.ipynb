{
 "cells": [
  {
   "cell_type": "code",
   "execution_count": 1,
   "metadata": {},
   "outputs": [],
   "source": [
    "import bodotokenizer.bodotokenizer"
   ]
  },
  {
   "cell_type": "code",
   "execution_count": 2,
   "metadata": {},
   "outputs": [
    {
     "data": {
      "text/plain": [
       "'नोंसिनि 60.0 55 फरायसालियाव 44 5 - 19 फोरोंगुरु 6.6 दङ नामा ?'"
      ]
     },
     "execution_count": 2,
     "metadata": {},
     "output_type": "execute_result"
    }
   ],
   "source": [
    "# test for keeping numbers with decimal point unseparated\n",
    "bodotokenizer.tokenize('नोंसिनि 60.0 55फरायसालियाव44 5-19 फोरोंगुरु 6.6 दङ नामा?')"
   ]
  },
  {
   "cell_type": "code",
   "execution_count": 3,
   "metadata": {},
   "outputs": [
    {
     "data": {
      "text/plain": [
       "'नोंसिनि . 60.0 55 फरायसालियाव 44 5 - 19 फोरों . गुरु 6.6 . दङ नामा ?'"
      ]
     },
     "execution_count": 3,
     "metadata": {},
     "output_type": "execute_result"
    }
   ],
   "source": [
    "# test for breaking words with fullstop symbols\n",
    "bodotokenizer.tokenize('नोंसिनि. 60.0 55फरायसालियाव44 5-19 फोरों.गुरु 6.6 .दङ नामा?')"
   ]
  },
  {
   "cell_type": "code",
   "execution_count": 5,
   "metadata": {},
   "outputs": [],
   "source": [
    "from bodotokenizer import tokenize_file\n",
    "tokenize_file(\"C:/Users/Lenovo/Desktop/UnsupervisedMT/onmt/brx.txt\", \"C:/Users/Lenovo/Desktop/UnsupervisedMT/onmt/brx.tok.txt\")"
   ]
  }
 ],
 "metadata": {
  "kernelspec": {
   "display_name": "Python 3",
   "language": "python",
   "name": "python3"
  },
  "language_info": {
   "codemirror_mode": {
    "name": "ipython",
    "version": 3
   },
   "file_extension": ".py",
   "mimetype": "text/x-python",
   "name": "python",
   "nbconvert_exporter": "python",
   "pygments_lexer": "ipython3",
   "version": "3.11.1"
  }
 },
 "nbformat": 4,
 "nbformat_minor": 2
}
